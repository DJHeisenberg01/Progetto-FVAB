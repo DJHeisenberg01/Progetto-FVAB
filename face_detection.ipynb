{
 "cells": [
  {
   "cell_type": "code",
   "execution_count": 20,
   "metadata": {},
   "outputs": [],
   "source": [
    "import cv2\n",
    "\n",
    "import os\n",
    "import matplotlib.pyplot as plt\n"
   ]
  },
  {
   "cell_type": "code",
   "execution_count": 21,
   "metadata": {},
   "outputs": [],
   "source": [
    "face_classifier = cv2.CascadeClassifier(\n",
    "    cv2.data.haarcascades + \"haarcascade_frontalface_default.xml\"\n",
    ")\n",
    "\n",
    "count = 0\n",
    "\n",
    "for i in range(1,2):\n",
    "    path = 'D:\\\\faceDetection\\\\faces_0\\\\' + str(i).rjust(2,'0')\n",
    "    for file_name in os.listdir(path):\n",
    "        if not file_name.startswith('.'):\n",
    "            image_path = path + '\\\\' + file_name\n",
    "            img = cv2.imread(image_path)\n",
    "            gray_image = cv2.cvtColor(img, cv2.COLOR_BGR2GRAY)\n",
    "            \n",
    "            \n",
    "            try:\n",
    "                face = face_classifier.detectMultiScale(\n",
    "                    gray_image, scaleFactor=1.1, minNeighbors=5, minSize=(128, 128), maxSize=(128,128)\n",
    "                )  \n",
    "                x, y, w, h = face[0]\n",
    "                \n",
    "                img_crop = gray_image[y:y+h, x:x+w]\n",
    "                img_crop = cv2.resize(img_crop, (128,128))\n",
    "                new_path = 'D:\\\\faceDetection\\\\cropped_images\\\\'+ str(i).rjust(2,'0')\n",
    "\n",
    "                cv2.imwrite(new_path + file_name + '.jpg' ,img_crop)\n",
    "\n",
    "                \n",
    "            except:\n",
    "                '''print(image_path)\n",
    "                count += 1\n",
    "                print(count)'''\n",
    "            \n",
    "\n",
    "\n",
    "\n",
    "\n"
   ]
  },
  {
   "cell_type": "code",
   "execution_count": 27,
   "metadata": {},
   "outputs": [],
   "source": [
    "face_classifier = cv2.CascadeClassifier(\n",
    "    cv2.data.haarcascades + \"haarcascade_frontalface_default.xml\"\n",
    ")\n",
    "\n",
    "count = 0\n",
    "\n",
    "for i in range(1,2):\n",
    "\n",
    "    path = 'D:\\\\faceDetection\\\\faces_0\\\\' + str(i).rjust(2,'0')\n",
    "    \n",
    "    file_name1 = os.listdir(path)[0]\n",
    "    img = cv2.imread(path + '\\\\' + file_name1)\n",
    "    gray_image = cv2.cvtColor(img, cv2.COLOR_BGR2GRAY)\n",
    "            \n",
    "    face = face_classifier.detectMultiScale(gray_image, scaleFactor=1.1, minNeighbors=5, minSize=(128, 128), maxSize=(128,128))  \n",
    "    x, y, w, h = face[0]\n",
    "\n",
    "\n",
    "    \n",
    "    for file_name in os.listdir(path):\n",
    "        if not file_name.startswith('.'):\n",
    "            image_path = path + '\\\\' + file_name\n",
    "            \n",
    "            img = cv2.imread(image_path)\n",
    "            gray_image = cv2.cvtColor(img, cv2.COLOR_BGR2GRAY)\n",
    "            img_crop = gray_image[y:y+h, x:x+w]\n",
    "            img_crop = cv2.resize(img_crop, (128,128))\n",
    "            new_path = 'D:\\\\faceDetection\\\\cropped_images\\\\'+ str(i).rjust(2,'0')\n",
    "\n",
    "            cv2.imwrite(new_path + '\\\\' + file_name + '.jpg' ,img_crop)"
   ]
  }
 ],
 "metadata": {
  "kernelspec": {
   "display_name": "Python 3",
   "language": "python",
   "name": "python3"
  },
  "language_info": {
   "codemirror_mode": {
    "name": "ipython",
    "version": 3
   },
   "file_extension": ".py",
   "mimetype": "text/x-python",
   "name": "python",
   "nbconvert_exporter": "python",
   "pygments_lexer": "ipython3",
   "version": "3.10.14"
  }
 },
 "nbformat": 4,
 "nbformat_minor": 2
}
