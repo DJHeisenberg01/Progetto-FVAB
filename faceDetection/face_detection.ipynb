{
 "cells": [
  {
   "cell_type": "code",
   "execution_count": null,
   "metadata": {},
   "outputs": [],
   "source": [
    "import cv2\n",
    "import os\n",
    "import matplotlib.pyplot as plt"
   ]
  },
  {
   "cell_type": "code",
   "execution_count": null,
   "metadata": {},
   "outputs": [],
   "source": [
    "face_classifier = cv2.CascadeClassifier(\n",
    "    cv2.data.haarcascades + \"haarcascade_frontalface_default.xml\"\n",
    ")"
   ]
  },
  {
   "cell_type": "code",
   "execution_count": null,
   "metadata": {},
   "outputs": [],
   "source": [
    "# Funzione che, tra le facce restituite dal face detector, seleziona solo quella con la finestra più grande\n",
    "def max_area(faces):\n",
    "    max_area = 0\n",
    "    for f in faces:\n",
    "        (x1, y1, w1, h1) = f\n",
    "        area = w1 * h1\n",
    "        if(area > max_area):\n",
    "            max_area = area\n",
    "            (x, y, w, h) = f\n",
    "\n",
    "    return (x, y, w, h)"
   ]
  },
  {
   "cell_type": "code",
   "execution_count": null,
   "metadata": {},
   "outputs": [],
   "source": [
    "count_scartate = 0\n",
    "count_acquisite = 0\n",
    "\n",
    "# SPECIFICARE PATH FINO ALLA CARTELLA CONTENENTE LE IMMAGINI\n",
    "user_path = \"C:\\\\Users\\\\User\\\\Progetti_università\\\\Progetto-FVAB\\\\faceDetection\\\\\"\n",
    "\n",
    "# SPECIFICARE IL NOME DELLA CARTELLA CONTENENTE LE IMMAGINI\n",
    "image_folder = \"faces_0\\\\\"\n",
    "\n",
    "\n",
    "for i in range(1,25):\n",
    "    path = user_path + image_folder + str(i).rjust(2,'0')\n",
    "    \n",
    "    print(f\"Cartella Numero {str(i)}\")\n",
    "    for file_name in os.listdir(path):\n",
    "        if not file_name.startswith('.'):\n",
    "            image_path = path + '\\\\' + file_name\n",
    "            print(f\"image_path: {image_path}\")\n",
    "            img = cv2.imread(image_path)\n",
    "            gray_image = cv2.cvtColor(img, cv2.COLOR_BGR2GRAY)\n",
    "            \n",
    "            try:\n",
    "                faces = face_classifier.detectMultiScale(\n",
    "                    gray_image, scaleFactor=1.1, minNeighbors=10, minSize=(30, 30), maxSize=(256, 256)\n",
    "                )  \n",
    "                if len(faces) > 1:\n",
    "                    x, y, w, h = max_area(faces)\n",
    "                else:\n",
    "                    x, y, w, h = faces[0]\n",
    "                \n",
    "                img_crop = gray_image[y:y+h, x:x+w]\n",
    "                img_crop = cv2.resize(img_crop, (128, 128))\n",
    "                new_path = user_path + 'cropped_images\\\\' + str(i).rjust(2,'0')\n",
    "\n",
    "                cv2.imwrite(new_path + '\\\\' + file_name[:11] + '.jpg', img_crop)\n",
    "                \n",
    "                count_acquisite += 1\n",
    "\n",
    "            except:\n",
    "                count_scartate += 1\n",
    "\n",
    "    print(f\"Numero di scartate: {str(count_scartate)}\")\n",
    "    print(f\"Numero di acquisite: {str(count_acquisite)}\")\n",
    "    count_acquisite = 0\n",
    "    count_scartate = 0"
   ]
  },
  {
   "cell_type": "markdown",
   "metadata": {},
   "source": [
    "# Prove"
   ]
  },
  {
   "cell_type": "code",
   "execution_count": null,
   "metadata": {},
   "outputs": [],
   "source": [
    "# SPECIFICARE PATH FINO ALLA CARTELLA CONTENENTE LE IMMAGINI\n",
    "user_path = \"C:\\\\Users\\\\User\\\\Progetti università\\\\Progetto-FVAB\\\\faceDetection\\\\\"\n",
    "\n",
    "# SPECIFICARE IL NOME DELLA CARTELLA CONTENENTE LE IMMAGINI\n",
    "image_folder = \"faces_0\\\\\"\n",
    "\n",
    "path = user_path + image_folder + \"01\" + \"\\\\\" + 'frame_00003_rgb.png'\n",
    "path"
   ]
  },
  {
   "cell_type": "code",
   "execution_count": null,
   "metadata": {},
   "outputs": [],
   "source": [
    "img = cv2.imread(path)\n",
    "\n",
    "cv2.imshow(\"Image\", img)\n",
    " \n",
    "# Wait for the user to press a key\n",
    "cv2.waitKey(0)\n",
    " \n",
    "# Close all windows\n",
    "cv2.destroyAllWindows()"
   ]
  }
 ],
 "metadata": {
  "kernelspec": {
   "display_name": "Python 3",
   "language": "python",
   "name": "python3"
  },
  "language_info": {
   "codemirror_mode": {
    "name": "ipython",
    "version": 3
   },
   "file_extension": ".py",
   "mimetype": "text/x-python",
   "name": "python",
   "nbconvert_exporter": "python",
   "pygments_lexer": "ipython3",
   "version": "3.10.14"
  }
 },
 "nbformat": 4,
 "nbformat_minor": 2
}
