{
 "cells": [
  {
   "cell_type": "code",
   "execution_count": 1,
   "metadata": {},
   "outputs": [],
   "source": [
    "import os\n",
    "import numpy as np\n",
    "import matplotlib.pyplot as plt\n",
    "import torch\n",
    "from torch import nn\n",
    "from torch.utils.data import DataLoader\n",
    "from torchsummary import summary\n",
    "#from scipy.spatial.distance import canberra, euclidean\n",
    "\n",
    "#from torchpairwise import canberra_distances\n",
    "\n",
    "import my_utility as mu"
   ]
  },
  {
   "cell_type": "markdown",
   "metadata": {},
   "source": [
    "Pytorch training pipeline\n",
    "1. Design model (input size, output size, forward pass and operations/layers)\n",
    "2. Construct loss and optimizer\n",
    "3. Training loop\n",
    "    - forward pass: compute prediction\n",
    "    - backward pass: get gradients\n",
    "    - update weights\n",
    "    - iterate until \"done\""
   ]
  },
  {
   "cell_type": "markdown",
   "metadata": {},
   "source": [
    "# Setup"
   ]
  },
  {
   "cell_type": "code",
   "execution_count": 2,
   "metadata": {},
   "outputs": [],
   "source": [
    "# Parametri della rete\n",
    "epochs = 10\n",
    "batch_size = 16\n",
    "learning_rate = 0.01\n",
    "margin = 1  # Margin for contrastive loss."
   ]
  },
  {
   "cell_type": "code",
   "execution_count": 3,
   "metadata": {},
   "outputs": [],
   "source": [
    "# Selezione del device da usare per il training\n",
    "device = (\n",
    "    \"cuda\"\n",
    "    if torch.cuda.is_available()\n",
    "    else \"mps\"\n",
    "    if torch.backends.mps.is_available()\n",
    "    else \"cpu\"\n",
    ")"
   ]
  },
  {
   "cell_type": "code",
   "execution_count": 4,
   "metadata": {},
   "outputs": [],
   "source": [
    "#tf.config.run_functions_eagerly(True)\n",
    "\n",
    "n = 384 # Dimensione codifica frattale\n",
    "\n",
    "# Parametri del dataset\n",
    "num_samples_train = 8000\n",
    "num_samples_val = 2000\n",
    "num_samples_test = 2000"
   ]
  },
  {
   "cell_type": "code",
   "execution_count": 5,
   "metadata": {},
   "outputs": [
    {
     "name": "stdout",
     "output_type": "stream",
     "text": [
      "Data loaded.\n",
      "Data loaded.\n",
      "Data loaded.\n"
     ]
    }
   ],
   "source": [
    "# Inizializzazione\n",
    "# Path a cartelle di immagini e file di embeddings\n",
    "root_dir = \".\\img_celeba_10000\"\n",
    "\n",
    "train_img_dir = root_dir + \"\\img_celeba_10000_train\"\n",
    "train_codify_dir = root_dir + \"\\codify_celeba_10000_train.csv\"\n",
    "\n",
    "valid_img_dir = root_dir + \"\\img_celeba_10000_valid\"\n",
    "valid_codify_dir = root_dir + \"\\codify_celeba_10000_valid.csv\"\n",
    "\n",
    "test_img_dir = root_dir + \"\\img_celeba_2000_test\"\n",
    "test_codify_dir = root_dir + \"\\codify_celeba_2000_test.csv\"\n",
    "\n",
    "\n",
    "# Caricamento datasets\n",
    "train_set = mu.ImageDataSet(img_dir=train_img_dir, codify_dir=train_codify_dir)\n",
    "valid_set = mu.ImageDataSet(img_dir=valid_img_dir, codify_dir=valid_codify_dir)\n",
    "test_set = mu.ImageDataSet(img_dir=test_img_dir, codify_dir=test_codify_dir)"
   ]
  },
  {
   "cell_type": "code",
   "execution_count": 6,
   "metadata": {},
   "outputs": [],
   "source": [
    "# DataLoaders\n",
    "train_loader = DataLoader(train_set, batch_size=batch_size, shuffle=True)\n",
    "valid_loader = DataLoader(valid_set, batch_size=batch_size, shuffle=True)\n",
    "test_loader = DataLoader(test_set, batch_size=batch_size, shuffle=True)"
   ]
  },
  {
   "cell_type": "code",
   "execution_count": 7,
   "metadata": {},
   "outputs": [],
   "source": [
    "# Test per verificare il corretto funzionamento\n",
    "#train_features, train_labels = next(iter(train_loader))\n",
    "#print(f\"Feature batch shape: {train_features.size()}\")\n",
    "#print(f\"Labels batch shape: {train_labels.size()}\")\n",
    "#img = train_features[0].squeeze()\n",
    "#label = train_labels[0]\n",
    "#plt.imshow(img, cmap=\"gray\")\n",
    "#plt.show()\n",
    "#print(f\"Label: {label}\")"
   ]
  },
  {
   "cell_type": "markdown",
   "metadata": {},
   "source": [
    "# Network architecture "
   ]
  },
  {
   "cell_type": "markdown",
   "metadata": {},
   "source": [
    "## Appunti"
   ]
  },
  {
   "cell_type": "markdown",
   "metadata": {},
   "source": [
    "Architettura rete\n",
    "    seq_modules = nn.Sequential(\n",
    "        nn.BatchNorm2d(num_features=128),\n",
    "        nn.Conv2d(in_channels=1, out_channels=4, kernel_size=(5, 5)),\n",
    "        nn.Tanh(),\n",
    "        nn.AvgPool2d(kernel_size=(2, 2)),\n",
    "        nn.Conv2d(in_channels=4, out_channels=16, kernel_size=(5, 5)),\n",
    "        nn.Tanh(),\n",
    "        nn.AvgPool2d(kernel_size=(2, 2)),\n",
    "        nn.Flatten(),\n",
    "        nn.BatchNorm2d(),\n",
    "        nn.Linear(),\n",
    "        nn.Tanh()            \n",
    "    )\n",
    "\n",
    "nn.Conv2d():\n",
    "- in_channels: numero di canali in input. Dato che le immagini vengono convertite in scala di grigio, avremo un solo canale\n",
    "- out_channels: numero di canali in output.\n"
   ]
  },
  {
   "cell_type": "markdown",
   "metadata": {},
   "source": [
    "La formula per calcolare l'output del pooling è data da\n",
    "$$output_{width} = \\frac{W-F+2*P}{S}+1$$\n",
    "\n",
    "dove\n",
    "- W è la dimensione dell'immagine (es. W=128 se l'immagine è 124x124)\n",
    "- F è la dimnesione del kernel (es. F=2 se il kernel è 2x2)\n",
    "- P è il padding (dalla documentazione, \"implicit zero padding to be added on both sides\")\n",
    "- S è lo stride, di default uguale al kernel size F\n",
    "\n",
    "Se S è 2, la dimensione del tensore viene dimezzata (es. da 124x124 a 62x62)"
   ]
  },
  {
   "cell_type": "markdown",
   "metadata": {},
   "source": [
    "## Model instance"
   ]
  },
  {
   "cell_type": "code",
   "execution_count": 9,
   "metadata": {},
   "outputs": [],
   "source": [
    "model = mu.SiameseNeuralNetwork().to(device)"
   ]
  },
  {
   "cell_type": "code",
   "execution_count": 11,
   "metadata": {},
   "outputs": [
    {
     "name": "stdout",
     "output_type": "stream",
     "text": [
      "----------------------------------------------------------------\n",
      "        Layer (type)               Output Shape         Param #\n",
      "================================================================\n",
      "       BatchNorm2d-1          [-1, 1, 128, 128]               2\n",
      "            Conv2d-2          [-1, 4, 124, 124]             104\n",
      "         AvgPool2d-3            [-1, 4, 62, 62]               0\n",
      "            Conv2d-4           [-1, 16, 58, 58]           1,616\n",
      "         AvgPool2d-5           [-1, 16, 29, 29]               0\n",
      "       BatchNorm1d-6                [-1, 13456]          26,912\n",
      "            Linear-7                  [-1, 384]       5,167,488\n",
      "================================================================\n",
      "Total params: 5,196,122\n",
      "Trainable params: 5,196,122\n",
      "Non-trainable params: 0\n",
      "----------------------------------------------------------------\n",
      "Input size (MB): 0.06\n",
      "Forward/backward pass size (MB): 1.33\n",
      "Params size (MB): 19.82\n",
      "Estimated Total Size (MB): 21.21\n",
      "----------------------------------------------------------------\n"
     ]
    }
   ],
   "source": [
    "summary(model, input_size=(1, 128, 128))"
   ]
  },
  {
   "cell_type": "markdown",
   "metadata": {},
   "source": [
    "# Training"
   ]
  },
  {
   "cell_type": "markdown",
   "metadata": {},
   "source": [
    "## Training function"
   ]
  },
  {
   "cell_type": "code",
   "execution_count": 10,
   "metadata": {},
   "outputs": [],
   "source": [
    "def train(model, optimizer, loss_fn, train_loader, val_loader, test_loader, epochs, device):\n",
    "    for epoch in range(epochs):\n",
    "        training_loss = 0.0\n",
    "        valid_loss = 0.0\n",
    "        \n",
    "        # Training loop\n",
    "        model.train()\n",
    "        for batch in train_loader:\n",
    "            inputs, label = batch\n",
    "            inputs = inputs.to(device)\n",
    "            label = label.to(device)\n",
    "\n",
    "            # Calcolo dell'embedding di output\n",
    "            output = model(inputs)\n",
    "            \n",
    "            # Confronto con l'embedding di input\n",
    "            loss = loss_fn(output, label)\n",
    "            loss.requires_grad = True\n",
    "            \n",
    "            optimizer.zero_grad()\n",
    "            loss.backward()\n",
    "            optimizer.step()\n",
    "            \n",
    "            training_loss += loss.data.item()\n",
    "        \n",
    "        \n",
    "        # Validation loop\n",
    "        model.eval()\n",
    "        for batch in val_loader:\n",
    "            inputs, labels = batch\n",
    "\n",
    "            inputs = inputs.to(device)\n",
    "            output = model(inputs)\n",
    "            labels = labels.to(device)\n",
    "            loss = loss_fn(output, labels)\n",
    "            valid_loss += loss.data.item()\n",
    "        \n",
    "        print(f\"Epoch [{epoch+1}/{epochs}] ----> \\nTraining loss: {training_loss:.4f} \\nValidation loss: {valid_loss:.4f}\\n\")\n",
    "    \n",
    "\n",
    "    # Loss on random test batch\n",
    "    test_images, test_labels = next(iter(test_loader))\n",
    "    #test_sample = test_images\n",
    "    #test_label = test_labels\n",
    "\n",
    "    test_images = test_images.to(device)\n",
    "    output = model(test_images)\n",
    "    test_labels = test_labels.to(device)\n",
    "    loss = loss_fn(output, test_labels)\n",
    "    test_loss = loss.data.item()\n",
    "\n",
    "    print(f\"Loss on random testing batch: {test_loss}\")\n",
    "    \n"
   ]
  },
  {
   "cell_type": "markdown",
   "metadata": {},
   "source": [
    "## Optimizer & learning rate scheduler"
   ]
  },
  {
   "cell_type": "code",
   "execution_count": 12,
   "metadata": {},
   "outputs": [],
   "source": [
    "# Optimizer\n",
    "optimizer = torch.optim.Adam(model.parameters(), lr=learning_rate)\n",
    "\n",
    "# Lr scheduler\n",
    "scheduler = torch.optim.lr_scheduler.StepLR(optimizer=optimizer, step_size=10)"
   ]
  },
  {
   "cell_type": "markdown",
   "metadata": {},
   "source": [
    "## Loss function"
   ]
  },
  {
   "cell_type": "code",
   "execution_count": 13,
   "metadata": {},
   "outputs": [],
   "source": [
    "# Loss function: specificare funzioni personalizzate\n",
    "\n",
    "## Euclidean\n",
    "#distance = nn.PairwiseDistance(p=2)\n",
    "#distance = mu.custom_euclidean_distance\n",
    "\n",
    "\n",
    "## Standardized Euclidean RIVEDERE\n",
    "#distance = mu.custom_seuclidean_distance\n",
    "\n",
    "\n",
    "## Manhattan\n",
    "#distance = nn.PairwiseDistance(p=1)\n",
    "\n",
    "\n",
    "## Cosine\n",
    "#distance = nn.CosineSimilarity()\n",
    "\n",
    "\n",
    "## Canberra\n",
    "distance = mu.custom_canberra_distance\n",
    "\n",
    "\n",
    "## Mahalanobis RIVEDERE\n",
    "#distance = mu.custom_mahalanobis_distance\n",
    "\n",
    "\n",
    "## Chebyshev\n",
    "#distance = mu.custom_chebyshev_distance\n",
    "\n",
    "\n",
    "## Hamming (NON IMPLEMENTATA)\n",
    "#distance = custom_hamming_distance\n",
    "\n",
    "\n",
    "## Braycurtis\n",
    "#distance = mu.custom_braycurtis_distance\n",
    "\n",
    "\n",
    "criterion = mu.CustomLoss(distance=distance)\n",
    "#criterion = nn.MSELoss()\n"
   ]
  },
  {
   "cell_type": "markdown",
   "metadata": {},
   "source": [
    "# Model training"
   ]
  },
  {
   "cell_type": "code",
   "execution_count": 14,
   "metadata": {},
   "outputs": [
    {
     "name": "stdout",
     "output_type": "stream",
     "text": [
      "Epoch [1/10] ----> \n",
      "Training loss: 167849.2817 \n",
      "Validation loss: 41949.4204\n",
      "\n",
      "Epoch [2/10] ----> \n",
      "Training loss: 167851.8440 \n",
      "Validation loss: 41954.1678\n",
      "\n",
      "Epoch [3/10] ----> \n",
      "Training loss: 167847.4086 \n",
      "Validation loss: 41918.0497\n",
      "\n",
      "Epoch [4/10] ----> \n",
      "Training loss: 167837.7521 \n",
      "Validation loss: 41997.5548\n",
      "\n",
      "Epoch [5/10] ----> \n",
      "Training loss: 167850.2730 \n",
      "Validation loss: 41955.5132\n",
      "\n",
      "Epoch [6/10] ----> \n",
      "Training loss: 167856.3711 \n",
      "Validation loss: 42025.9309\n",
      "\n",
      "Epoch [7/10] ----> \n",
      "Training loss: 167838.9789 \n",
      "Validation loss: 41966.7677\n",
      "\n",
      "Epoch [8/10] ----> \n",
      "Training loss: 167835.4611 \n",
      "Validation loss: 41965.3503\n",
      "\n",
      "Epoch [9/10] ----> \n",
      "Training loss: 167854.7524 \n",
      "Validation loss: 41975.1557\n",
      "\n",
      "Epoch [10/10] ----> \n",
      "Training loss: 167842.7848 \n",
      "Validation loss: 41977.2255\n",
      "\n",
      "Loss on random testing batch: 336.68865966796875\n"
     ]
    }
   ],
   "source": [
    "train(model=model, optimizer=optimizer, loss_fn=criterion, train_loader=train_loader, val_loader=valid_loader, test_loader = test_loader, epochs=epochs, device=device)\n"
   ]
  },
  {
   "cell_type": "markdown",
   "metadata": {},
   "source": [
    "# Model save"
   ]
  },
  {
   "cell_type": "code",
   "execution_count": 18,
   "metadata": {},
   "outputs": [],
   "source": [
    "torch.save(model.state_dict(), f=\"model_canberra\")"
   ]
  },
  {
   "cell_type": "markdown",
   "metadata": {},
   "source": [
    "# Model load"
   ]
  },
  {
   "cell_type": "code",
   "execution_count": null,
   "metadata": {},
   "outputs": [],
   "source": [
    "#model = mu.SiameseNeuralNetwork()\n",
    "#model_path = torch.load(f=\"model_canberra\")\n",
    "#model.load_state_dict(model_path)"
   ]
  },
  {
   "cell_type": "markdown",
   "metadata": {},
   "source": [
    "Model save: https://pytorch.org/tutorials/beginner/saving_loading_models.html\n",
    "\n",
    "Scheduler: https://pytorch.org/docs/stable/generated/torch.optim.lr_scheduler.StepLR.html"
   ]
  },
  {
   "cell_type": "markdown",
   "metadata": {},
   "source": [
    "# Training with All images"
   ]
  },
  {
   "cell_type": "code",
   "execution_count": null,
   "metadata": {},
   "outputs": [],
   "source": [
    "\n",
    "root_dir = \".\\img_celeba_10000\"\n",
    "\n",
    "all_img_dir = root_dir + \"\\all_img_celeba\"\n",
    "all_codify_dir = root_dir + \"\\all_codify_celeba\\codify_celeba_all.csv\"\n",
    "\n",
    "\n",
    "all_set = mu.ImageDataSet(img_dir = all_img_dir, codify_dir = all_codify_dir)\n",
    "\n",
    "\n",
    "\n",
    "all_loader = DataLoader(all_set, batch_size=batch_size, shuffle=True)"
   ]
  }
 ],
 "metadata": {
  "kernelspec": {
   "display_name": "Progetto-FVAB",
   "language": "python",
   "name": "python3"
  },
  "language_info": {
   "codemirror_mode": {
    "name": "ipython",
    "version": 3
   },
   "file_extension": ".py",
   "mimetype": "text/x-python",
   "name": "python",
   "nbconvert_exporter": "python",
   "pygments_lexer": "ipython3",
   "version": "3.10.14"
  }
 },
 "nbformat": 4,
 "nbformat_minor": 2
}
