{
 "cells": [
  {
   "cell_type": "code",
   "execution_count": null,
   "metadata": {},
   "outputs": [],
   "source": [
    "import numpy as np\n",
    "import os\n",
    "import cv2\n",
    "import torch\n",
    "from torch.utils.data import Dataset\n",
    "import csv\n",
    "from torch.utils.data import DataLoader\n",
    "from network_files import my_utility as mu\n",
    "from utility_face_detection import face_detection, TrainDataset\n"
   ]
  },
  {
   "cell_type": "code",
   "execution_count": null,
   "metadata": {},
   "outputs": [],
   "source": [
    "face_classifier = cv2.CascadeClassifier(\n",
    "    cv2.data.haarcascades + \"haarcascade_frontalface_default.xml\"\n",
    ")\n",
    "\n",
    "def max_area(faces):\n",
    "    max_area = 0\n",
    "    for f in faces:\n",
    "        (x1, y1, w1, h1) = f\n",
    "        area = w1 * h1\n",
    "        if(area > max_area):\n",
    "            max_area = area\n",
    "            (x, y, w, h) = f\n",
    "\n",
    "    return (x, y, w, h)"
   ]
  },
  {
   "cell_type": "code",
   "execution_count": null,
   "metadata": {},
   "outputs": [],
   "source": [
    "# Stesso codice di FaceDetection ma con altre cartelle\n",
    "def face_detection_test_images(test_images):\n",
    "    for i in range(1,25):\n",
    "        \n",
    "        write_path = test_images + \"face_test_images\\\\\" + str(i).rjust(2,'0')\n",
    "        if not os.path.exists(write_path):\n",
    "            os.makedirs(write_path)\n",
    "        \n",
    "        read_path = test_images + str(i).rjust(2,'0')\n",
    "        \n",
    "        print(f\"Cartella Numero {str(i)}\")\n",
    "        for file_name in os.listdir(read_path):\n",
    "            if not file_name.startswith('.'):\n",
    "                image_path = read_path + '\\\\' + file_name\n",
    "                img = cv2.imread(image_path)\n",
    "                gray_image = cv2.cvtColor(img, cv2.COLOR_BGR2GRAY)\n",
    "                \n",
    "                faces = face_classifier.detectMultiScale(\n",
    "                    gray_image, scaleFactor=1.05, minNeighbors=12, minSize=(90, 90), maxSize=(150, 150)\n",
    "                )  \n",
    "                if len(faces) > 1:\n",
    "                    x, y, w, h = max_area(faces)\n",
    "                else:\n",
    "                    x, y, w, h = faces[0]\n",
    "                \n",
    "                img_crop = gray_image[y:y+h, x:x+w]\n",
    "\n",
    "                cv2.imwrite(write_path + '\\\\' + file_name, img_crop)\n",
    " "
   ]
  },
  {
   "cell_type": "code",
   "execution_count": 1,
   "metadata": {},
   "outputs": [],
   "source": [
    "# Stesso codice di codifica del train ma senza i labels\n",
    "def codify_test_images(test_images):\n",
    "    model = mu.SiameseNeuralNetwork()\n",
    "    model_path = torch.load(f=\"model_all_images\")\n",
    "    model.load_state_dict(model_path)\n",
    "    model.eval()\n",
    "    with open(\"test_template.csv\", \"w\", newline=\"\") as template:\n",
    "        writer = csv.writer(template, delimiter=\";\")\n",
    "        for i in range(1,25):\n",
    "            train_curr_images = test_images + \"\\\\\" + str(i).rjust(2,'0')\n",
    "            images = TrainDataset(img_dir=train_curr_images)\n",
    "            img_dataloader = DataLoader(images, batch_size=1, drop_last=True)\n",
    "            for image in img_dataloader:\n",
    "                to_write = list(model(image).cpu().detach().numpy().flatten())\n",
    "                writer.writerow([to_write])"
   ]
  },
  {
   "cell_type": "code",
   "execution_count": null,
   "metadata": {},
   "outputs": [],
   "source": [
    "test_directory = 'C:\\\\Users\\\\antho\\\\Desktop\\\\faceDetection\\\\dataset_splitted\\\\test\\\\'\n",
    "\n",
    "face_detection_test_images(test_directory)\n",
    "codify_test_images(test_directory + \"face_test_images\\\\\")"
   ]
  }
 ],
 "metadata": {
  "kernelspec": {
   "display_name": "Python 3",
   "language": "python",
   "name": "python3"
  },
  "language_info": {
   "codemirror_mode": {
    "name": "ipython",
    "version": 3
   },
   "file_extension": ".py",
   "mimetype": "text/x-python",
   "name": "python",
   "nbconvert_exporter": "python",
   "pygments_lexer": "ipython3",
   "version": "3.10.14"
  }
 },
 "nbformat": 4,
 "nbformat_minor": 2
}
