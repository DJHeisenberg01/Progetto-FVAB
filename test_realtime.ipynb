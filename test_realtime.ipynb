{
 "cells": [
  {
   "cell_type": "code",
   "execution_count": 1,
   "metadata": {},
   "outputs": [],
   "source": [
    "import numpy as np\n",
    "import pandas as pd\n",
    "import os\n",
    "import cv2\n",
    "import torch\n",
    "from network_files import my_utility as mu\n",
    "from utility_face_detection import face_detection\n",
    "from scipy.spatial.distance import canberra\n"
   ]
  },
  {
   "cell_type": "code",
   "execution_count": 2,
   "metadata": {},
   "outputs": [],
   "source": [
    "def image_test(image_path, model, template, labels):\n",
    "    img_crop = face_detection(image_path)\n",
    "    img_crop = cv2.resize(img_crop, (128, 128))\n",
    "\n",
    "    # Converte in np.float32\n",
    "    img_crop = np.asarray(img_crop, dtype=np.float32)\n",
    "    \n",
    "    # Converto l'immagine in tensore\n",
    "    img_tensor = torch.from_numpy(img_crop)\n",
    "    \n",
    "    # Aggiungo le dimensioni relative a canale e batch (1)\n",
    "    img_tensor = torch.reshape(img_tensor, (1, 1, 128, 128))\n",
    "    \n",
    "    # Calcolo della codifica dell'immagine e converto in numpy array\n",
    "    codify = model(img_tensor).cpu().detach().numpy().flatten()\n",
    "    \n",
    "    # Matching\n",
    "    min_dist = np.inf\n",
    "    min_label = None\n",
    "\n",
    "    for index, row in template.iterrows():\n",
    "        row_array = row.to_numpy()\n",
    "        distance = canberra(codify, row_array)\n",
    "        \n",
    "        if distance < min_dist:\n",
    "            min_dist = distance\n",
    "            min_label = labels.loc[index]\n",
    "        \n",
    "    \n",
    "    return min_label\n",
    "    "
   ]
  },
  {
   "cell_type": "code",
   "execution_count": 3,
   "metadata": {},
   "outputs": [],
   "source": [
    "def test_matching(test_path, template_path):\n",
    "    # Caricamento del modello\n",
    "    model = mu.SiameseNeuralNetwork()\n",
    "    model_path = torch.load(f=\"model_all_images\")\n",
    "    model.load_state_dict(model_path)\n",
    "    model.eval()\n",
    "    \n",
    "    # Caricamento e manipolazione template e label\n",
    "    template = pd.read_csv(template_path)\n",
    "    \n",
    "    true_labels_df = template[\"Label\"]\n",
    "    template_df = template.drop(\"Label\", axis=1)\n",
    "    \n",
    "    out_true_labels = list()\n",
    "    out_pred_labels = list()\n",
    "    \n",
    "    # Per ogni immagine di test, fa il matching\n",
    "    for label in os.listdir(test_path):\n",
    "        src = os.path.join(test_path, label)\n",
    "        \n",
    "        for file_name in os.listdir(src):\n",
    "            if not file_name.startswith('.'):\n",
    "                test_image_path = os.path.join(src, file_name)\n",
    "        \n",
    "                print(f\"test_image_path: {test_image_path}\")\n",
    "                pred_label = image_test(test_image_path, model, template_df, true_labels_df)\n",
    "                out_pred_labels.append(pred_label)\n",
    "                out_true_labels.append(label)\n",
    "    \n",
    "    return out_true_labels, out_pred_labels"
   ]
  },
  {
   "cell_type": "code",
   "execution_count": 4,
   "metadata": {},
   "outputs": [
    {
     "name": "stdout",
     "output_type": "stream",
     "text": [
      "test_image_path: C:\\Users\\User\\Progetti_universita\\Progetto-FVAB\\faceDetection\\dataset_splitted\\test\\01\\frame_00004_rgb.png\n",
      "test_image_path: C:\\Users\\User\\Progetti_universita\\Progetto-FVAB\\faceDetection\\dataset_splitted\\test\\01\\frame_00009_rgb.png\n",
      "test_image_path: C:\\Users\\User\\Progetti_universita\\Progetto-FVAB\\faceDetection\\dataset_splitted\\test\\01\\frame_00010_rgb.png\n",
      "test_image_path: C:\\Users\\User\\Progetti_universita\\Progetto-FVAB\\faceDetection\\dataset_splitted\\test\\01\\frame_00011_rgb.png\n",
      "test_image_path: C:\\Users\\User\\Progetti_universita\\Progetto-FVAB\\faceDetection\\dataset_splitted\\test\\01\\frame_00025_rgb.png\n",
      "test_image_path: C:\\Users\\User\\Progetti_universita\\Progetto-FVAB\\faceDetection\\dataset_splitted\\test\\01\\frame_00026_rgb.png\n",
      "test_image_path: C:\\Users\\User\\Progetti_universita\\Progetto-FVAB\\faceDetection\\dataset_splitted\\test\\01\\frame_00106_rgb.png\n",
      "test_image_path: C:\\Users\\User\\Progetti_universita\\Progetto-FVAB\\faceDetection\\dataset_splitted\\test\\01\\frame_00108_rgb.png\n",
      "test_image_path: C:\\Users\\User\\Progetti_universita\\Progetto-FVAB\\faceDetection\\dataset_splitted\\test\\01\\frame_00115_rgb.png\n",
      "test_image_path: C:\\Users\\User\\Progetti_universita\\Progetto-FVAB\\faceDetection\\dataset_splitted\\test\\01\\frame_00126_rgb.png\n",
      "test_image_path: C:\\Users\\User\\Progetti_universita\\Progetto-FVAB\\faceDetection\\dataset_splitted\\test\\01\\frame_00127_rgb.png\n",
      "test_image_path: C:\\Users\\User\\Progetti_universita\\Progetto-FVAB\\faceDetection\\dataset_splitted\\test\\01\\frame_00137_rgb.png\n",
      "test_image_path: C:\\Users\\User\\Progetti_universita\\Progetto-FVAB\\faceDetection\\dataset_splitted\\test\\01\\frame_00142_rgb.png\n",
      "test_image_path: C:\\Users\\User\\Progetti_universita\\Progetto-FVAB\\faceDetection\\dataset_splitted\\test\\01\\frame_00143_rgb.png\n",
      "test_image_path: C:\\Users\\User\\Progetti_universita\\Progetto-FVAB\\faceDetection\\dataset_splitted\\test\\01\\frame_00144_rgb.png\n",
      "test_image_path: C:\\Users\\User\\Progetti_universita\\Progetto-FVAB\\faceDetection\\dataset_splitted\\test\\01\\frame_00146_rgb.png\n",
      "test_image_path: C:\\Users\\User\\Progetti_universita\\Progetto-FVAB\\faceDetection\\dataset_splitted\\test\\01\\frame_00149_rgb.png\n",
      "test_image_path: C:\\Users\\User\\Progetti_universita\\Progetto-FVAB\\faceDetection\\dataset_splitted\\test\\01\\frame_00157_rgb.png\n",
      "test_image_path: C:\\Users\\User\\Progetti_universita\\Progetto-FVAB\\faceDetection\\dataset_splitted\\test\\01\\frame_00158_rgb.png\n",
      "test_image_path: C:\\Users\\User\\Progetti_universita\\Progetto-FVAB\\faceDetection\\dataset_splitted\\test\\01\\frame_00173_rgb.png\n",
      "test_image_path: C:\\Users\\User\\Progetti_universita\\Progetto-FVAB\\faceDetection\\dataset_splitted\\test\\01\\frame_00174_rgb.png\n",
      "test_image_path: C:\\Users\\User\\Progetti_universita\\Progetto-FVAB\\faceDetection\\dataset_splitted\\test\\01\\frame_00194_rgb.png\n",
      "test_image_path: C:\\Users\\User\\Progetti_universita\\Progetto-FVAB\\faceDetection\\dataset_splitted\\test\\01\\frame_00195_rgb.png\n",
      "test_image_path: C:\\Users\\User\\Progetti_universita\\Progetto-FVAB\\faceDetection\\dataset_splitted\\test\\01\\frame_00201_rgb.png\n",
      "test_image_path: C:\\Users\\User\\Progetti_universita\\Progetto-FVAB\\faceDetection\\dataset_splitted\\test\\01\\frame_00241_rgb.png\n",
      "test_image_path: C:\\Users\\User\\Progetti_universita\\Progetto-FVAB\\faceDetection\\dataset_splitted\\test\\01\\frame_00251_rgb.png\n",
      "test_image_path: C:\\Users\\User\\Progetti_universita\\Progetto-FVAB\\faceDetection\\dataset_splitted\\test\\01\\frame_00255_rgb.png\n",
      "test_image_path: C:\\Users\\User\\Progetti_universita\\Progetto-FVAB\\faceDetection\\dataset_splitted\\test\\01\\frame_00262_rgb.png\n",
      "test_image_path: C:\\Users\\User\\Progetti_universita\\Progetto-FVAB\\faceDetection\\dataset_splitted\\test\\01\\frame_00263_rgb.png\n",
      "test_image_path: C:\\Users\\User\\Progetti_universita\\Progetto-FVAB\\faceDetection\\dataset_splitted\\test\\01\\frame_00266_rgb.png\n",
      "test_image_path: C:\\Users\\User\\Progetti_universita\\Progetto-FVAB\\faceDetection\\dataset_splitted\\test\\01\\frame_00275_rgb.png\n",
      "test_image_path: C:\\Users\\User\\Progetti_universita\\Progetto-FVAB\\faceDetection\\dataset_splitted\\test\\01\\frame_00278_rgb.png\n",
      "test_image_path: C:\\Users\\User\\Progetti_universita\\Progetto-FVAB\\faceDetection\\dataset_splitted\\test\\01\\frame_00285_rgb.png\n",
      "test_image_path: C:\\Users\\User\\Progetti_universita\\Progetto-FVAB\\faceDetection\\dataset_splitted\\test\\01\\frame_00290_rgb.png\n",
      "test_image_path: C:\\Users\\User\\Progetti_universita\\Progetto-FVAB\\faceDetection\\dataset_splitted\\test\\01\\frame_00291_rgb.png\n",
      "test_image_path: C:\\Users\\User\\Progetti_universita\\Progetto-FVAB\\faceDetection\\dataset_splitted\\test\\01\\frame_00356_rgb.png\n",
      "test_image_path: C:\\Users\\User\\Progetti_universita\\Progetto-FVAB\\faceDetection\\dataset_splitted\\test\\01\\frame_00357_rgb.png\n",
      "test_image_path: C:\\Users\\User\\Progetti_universita\\Progetto-FVAB\\faceDetection\\dataset_splitted\\test\\01\\frame_00361_rgb.png\n",
      "test_image_path: C:\\Users\\User\\Progetti_universita\\Progetto-FVAB\\faceDetection\\dataset_splitted\\test\\01\\frame_00362_rgb.png\n",
      "test_image_path: C:\\Users\\User\\Progetti_universita\\Progetto-FVAB\\faceDetection\\dataset_splitted\\test\\01\\frame_00372_rgb.png\n",
      "test_image_path: C:\\Users\\User\\Progetti_universita\\Progetto-FVAB\\faceDetection\\dataset_splitted\\test\\01\\frame_00376_rgb.png\n",
      "test_image_path: C:\\Users\\User\\Progetti_universita\\Progetto-FVAB\\faceDetection\\dataset_splitted\\test\\01\\frame_00379_rgb.png\n",
      "test_image_path: C:\\Users\\User\\Progetti_universita\\Progetto-FVAB\\faceDetection\\dataset_splitted\\test\\01\\frame_00446_rgb.png\n",
      "test_image_path: C:\\Users\\User\\Progetti_universita\\Progetto-FVAB\\faceDetection\\dataset_splitted\\test\\01\\frame_00447_rgb.png\n"
     ]
    }
   ],
   "source": [
    "#test_path = 'C:\\\\Users\\\\antho\\\\Desktop\\\\faceDetection\\\\dataset_splitted\\\\test\\\\'\n",
    "test_path = \"C:\\\\Users\\\\User\\\\Progetti_universita\\\\Progetto-FVAB\\\\faceDetection\\\\dataset_splitted\\\\test\"\n",
    "template_path = \"C:\\\\Users\\\\User\\\\Progetti_universita\\\\Progetto-FVAB\\\\template.csv\"\n",
    "\n",
    "true_labels, pred_labels = test_matching(test_path, template_path)"
   ]
  },
  {
   "cell_type": "code",
   "execution_count": 5,
   "metadata": {},
   "outputs": [],
   "source": [
    "true_labels_int = [int(i) for i in true_labels]\n",
    "pred_labels_int = [int(i) for i in pred_labels]\n",
    "\n",
    "\n",
    "df = pd.DataFrame({\"True labels\": true_labels_int,\n",
    "                   \"Pred labels\": pred_labels_int})"
   ]
  },
  {
   "cell_type": "code",
   "execution_count": 6,
   "metadata": {},
   "outputs": [
    {
     "data": {
      "text/plain": [
       "44"
      ]
     },
     "execution_count": 6,
     "metadata": {},
     "output_type": "execute_result"
    }
   ],
   "source": [
    "sum(df[\"True labels\"].values == df[\"Pred labels\"].values)\n"
   ]
  },
  {
   "cell_type": "code",
   "execution_count": 27,
   "metadata": {},
   "outputs": [],
   "source": [
    "df.to_csv(\"results.csv\", sep=\",\", index = False)"
   ]
  }
 ],
 "metadata": {
  "kernelspec": {
   "display_name": "Python 3",
   "language": "python",
   "name": "python3"
  },
  "language_info": {
   "codemirror_mode": {
    "name": "ipython",
    "version": 3
   },
   "file_extension": ".py",
   "mimetype": "text/x-python",
   "name": "python",
   "nbconvert_exporter": "python",
   "pygments_lexer": "ipython3",
   "version": "3.10.14"
  }
 },
 "nbformat": 4,
 "nbformat_minor": 2
}
